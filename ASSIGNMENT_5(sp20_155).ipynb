{
  "cells": [
    {
      "cell_type": "markdown",
      "metadata": {
        "id": "awQb5y5Be_Qr"
      },
      "source": [
        "# TF-IDF\n"
      ]
    },
    {
      "cell_type": "code",
      "execution_count": 111,
      "metadata": {
        "id": "NhSQNQE1e_Qu"
      },
      "outputs": [],
      "source": [
        "import pandas as pd"
      ]
    },
    {
      "cell_type": "code",
      "execution_count": 152,
      "metadata": {
        "id": "Y40ikQ5xe_Qw"
      },
      "outputs": [],
      "source": [
        "documentA = 'sunshine state enjoy sunshine'\n",
        "\n",
        "documentB = 'brown fox jump high brown fox run'\n",
        "\n",
        "documentC = 'sunshine state fox run fast'"
      ]
    },
    {
      "cell_type": "code",
      "execution_count": 153,
      "metadata": {
        "id": "I2Lnl7yNe_Qx"
      },
      "outputs": [],
      "source": [
        "bagOfWordsA = documentA.split(' ')\n",
        "bagOfWordsB = documentB.split(' ')\n",
        "bagOfWordsC = documentC.split(' ')"
      ]
    },
    {
      "cell_type": "code",
      "execution_count": 154,
      "metadata": {
        "id": "d1engHEAe_Qy"
      },
      "outputs": [],
      "source": [
        "uniqueWords = (set(bagOfWordsC).union(set(bagOfWordsA).union(set(bagOfWordsB))))"
      ]
    },
    {
      "cell_type": "code",
      "source": [
        "print(uniqueWords)"
      ],
      "metadata": {
        "colab": {
          "base_uri": "https://localhost:8080/"
        },
        "id": "9MnGfWZ7gD2W",
        "outputId": "1afa52aa-6ed7-4aa6-9bbc-6084b0db6472"
      },
      "execution_count": 155,
      "outputs": [
        {
          "output_type": "stream",
          "name": "stdout",
          "text": [
            "{'state', 'enjoy', 'jump', 'run', 'fox', 'fast', 'high', 'brown', 'sunshine'}\n"
          ]
        }
      ]
    },
    {
      "cell_type": "code",
      "execution_count": 158,
      "metadata": {
        "id": "HusCw3aVe_Qy"
      },
      "outputs": [],
      "source": [
        "numOfWordsA = dict.fromkeys(uniqueWords, 0)\n",
        "for word in bagOfWordsA:\n",
        "    numOfWordsA[word] += 1\n",
        "numOfWordsB = dict.fromkeys(uniqueWords, 0)\n",
        "for word in bagOfWordsB:\n",
        "    numOfWordsB[word] += 1\n",
        "numOfWordsC = dict.fromkeys(uniqueWords, 0)\n",
        "for word in bagOfWordsC:\n",
        "    numOfWordsC[word] += 1"
      ]
    },
    {
      "cell_type": "code",
      "source": [
        "print(numOfWordsA)\n",
        "print(numOfWordsB)\n",
        "print(numOfWordsC)"
      ],
      "metadata": {
        "colab": {
          "base_uri": "https://localhost:8080/"
        },
        "id": "laGRDLDRgWl0",
        "outputId": "77104577-33b7-405c-deda-157c5abff40a"
      },
      "execution_count": 159,
      "outputs": [
        {
          "output_type": "stream",
          "name": "stdout",
          "text": [
            "{'state': 1, 'enjoy': 1, 'jump': 0, 'run': 0, 'fox': 0, 'fast': 0, 'high': 0, 'brown': 0, 'sunshine': 2}\n",
            "{'state': 0, 'enjoy': 0, 'jump': 1, 'run': 1, 'fox': 2, 'fast': 0, 'high': 1, 'brown': 2, 'sunshine': 0}\n",
            "{'state': 1, 'enjoy': 0, 'jump': 0, 'run': 1, 'fox': 1, 'fast': 1, 'high': 0, 'brown': 0, 'sunshine': 1}\n"
          ]
        }
      ]
    },
    {
      "cell_type": "markdown",
      "metadata": {
        "id": "Au-k0oIXe_Q0"
      },
      "source": [
        "# Term Frequency (TF)\n"
      ]
    },
    {
      "cell_type": "code",
      "execution_count": 160,
      "metadata": {
        "id": "h8z5Mzk1e_Q0"
      },
      "outputs": [],
      "source": [
        "def computeTF(wordDict, bagOfWords):\n",
        "    tfDict = {}\n",
        "    bagOfWordsCount = len(bagOfWords)\n",
        "    for word, count in wordDict.items():\n",
        "        tfDict[word] = count / float(bagOfWordsCount)\n",
        "    return tfDict"
      ]
    },
    {
      "cell_type": "code",
      "execution_count": 161,
      "metadata": {
        "id": "z_tFRK_8e_Q1"
      },
      "outputs": [],
      "source": [
        "tfA = computeTF(numOfWordsA, bagOfWordsA)\n",
        "tfB = computeTF(numOfWordsB, bagOfWordsB)\n",
        "tfC = computeTF(numOfWordsC, bagOfWordsC)"
      ]
    },
    {
      "cell_type": "markdown",
      "metadata": {
        "id": "XXWPhrWbe_Q1"
      },
      "source": [
        "# Inverse Data Frequency (IDF)\n"
      ]
    },
    {
      "cell_type": "code",
      "execution_count": 162,
      "metadata": {
        "id": "2T-ocmNPe_Q2"
      },
      "outputs": [],
      "source": [
        "def computeIDF(documents):\n",
        "    import math\n",
        "    N = len(documents)\n",
        "    \n",
        "    idfDict = dict.fromkeys(documents[0].keys(), 0)\n",
        "    for document in documents:\n",
        "        for word, val in document.items():\n",
        "            if val > 0:\n",
        "                idfDict[word] += 1\n",
        "    \n",
        "    for word, val in idfDict.items():\n",
        "        idfDict[word] = math.log(N / float(val))\n",
        "    return idfDict"
      ]
    },
    {
      "cell_type": "code",
      "execution_count": 163,
      "metadata": {
        "id": "zFRQgj5ke_Q2"
      },
      "outputs": [],
      "source": [
        "idfs = computeIDF([numOfWordsA, numOfWordsB, numOfWordsC])"
      ]
    },
    {
      "cell_type": "markdown",
      "metadata": {
        "id": "1_CIWEFqe_Q2"
      },
      "source": [
        "Lastly, finding TF-IDF is simply the TF multiplied by IDF.\n"
      ]
    },
    {
      "cell_type": "code",
      "execution_count": 164,
      "metadata": {
        "id": "jqzdhvuie_Q3"
      },
      "outputs": [],
      "source": [
        "def computeTFIDF(tfBagOfWords, idfs):\n",
        "    tfidf = {}\n",
        "    for word, val in tfBagOfWords.items():\n",
        "        tfidf[word] = val * idfs[word]\n",
        "    return tfidf"
      ]
    },
    {
      "cell_type": "code",
      "execution_count": 165,
      "metadata": {
        "id": "OcxNYvahe_Q3"
      },
      "outputs": [],
      "source": [
        "tfidfA = computeTFIDF(tfA, idfs)\n",
        "tfidfB = computeTFIDF(tfB, idfs)\n",
        "tfidfC = computeTFIDF(tfC, idfs)\n",
        "df = pd.DataFrame([tfidfA, tfidfB, tfidfC])"
      ]
    },
    {
      "cell_type": "code",
      "source": [
        "df"
      ],
      "metadata": {
        "colab": {
          "base_uri": "https://localhost:8080/",
          "height": 143
        },
        "id": "6i2yuJvAh2if",
        "outputId": "ba95b179-ff6f-48d8-be3b-1b03c7a821ad"
      },
      "execution_count": 166,
      "outputs": [
        {
          "output_type": "execute_result",
          "data": {
            "text/plain": [
              "      state     enjoy      jump       run       fox      fast      high  \\\n",
              "0  0.101366  0.274653  0.000000  0.000000  0.000000  0.000000  0.000000   \n",
              "1  0.000000  0.000000  0.156945  0.057924  0.115847  0.000000  0.156945   \n",
              "2  0.081093  0.000000  0.000000  0.081093  0.081093  0.219722  0.000000   \n",
              "\n",
              "      brown  sunshine  \n",
              "0  0.000000  0.202733  \n",
              "1  0.313889  0.000000  \n",
              "2  0.000000  0.081093  "
            ],
            "text/html": [
              "\n",
              "  <div id=\"df-380adcb7-bd39-4698-9203-8ea755e375e6\">\n",
              "    <div class=\"colab-df-container\">\n",
              "      <div>\n",
              "<style scoped>\n",
              "    .dataframe tbody tr th:only-of-type {\n",
              "        vertical-align: middle;\n",
              "    }\n",
              "\n",
              "    .dataframe tbody tr th {\n",
              "        vertical-align: top;\n",
              "    }\n",
              "\n",
              "    .dataframe thead th {\n",
              "        text-align: right;\n",
              "    }\n",
              "</style>\n",
              "<table border=\"1\" class=\"dataframe\">\n",
              "  <thead>\n",
              "    <tr style=\"text-align: right;\">\n",
              "      <th></th>\n",
              "      <th>state</th>\n",
              "      <th>enjoy</th>\n",
              "      <th>jump</th>\n",
              "      <th>run</th>\n",
              "      <th>fox</th>\n",
              "      <th>fast</th>\n",
              "      <th>high</th>\n",
              "      <th>brown</th>\n",
              "      <th>sunshine</th>\n",
              "    </tr>\n",
              "  </thead>\n",
              "  <tbody>\n",
              "    <tr>\n",
              "      <th>0</th>\n",
              "      <td>0.101366</td>\n",
              "      <td>0.274653</td>\n",
              "      <td>0.000000</td>\n",
              "      <td>0.000000</td>\n",
              "      <td>0.000000</td>\n",
              "      <td>0.000000</td>\n",
              "      <td>0.000000</td>\n",
              "      <td>0.000000</td>\n",
              "      <td>0.202733</td>\n",
              "    </tr>\n",
              "    <tr>\n",
              "      <th>1</th>\n",
              "      <td>0.000000</td>\n",
              "      <td>0.000000</td>\n",
              "      <td>0.156945</td>\n",
              "      <td>0.057924</td>\n",
              "      <td>0.115847</td>\n",
              "      <td>0.000000</td>\n",
              "      <td>0.156945</td>\n",
              "      <td>0.313889</td>\n",
              "      <td>0.000000</td>\n",
              "    </tr>\n",
              "    <tr>\n",
              "      <th>2</th>\n",
              "      <td>0.081093</td>\n",
              "      <td>0.000000</td>\n",
              "      <td>0.000000</td>\n",
              "      <td>0.081093</td>\n",
              "      <td>0.081093</td>\n",
              "      <td>0.219722</td>\n",
              "      <td>0.000000</td>\n",
              "      <td>0.000000</td>\n",
              "      <td>0.081093</td>\n",
              "    </tr>\n",
              "  </tbody>\n",
              "</table>\n",
              "</div>\n",
              "      <button class=\"colab-df-convert\" onclick=\"convertToInteractive('df-380adcb7-bd39-4698-9203-8ea755e375e6')\"\n",
              "              title=\"Convert this dataframe to an interactive table.\"\n",
              "              style=\"display:none;\">\n",
              "        \n",
              "  <svg xmlns=\"http://www.w3.org/2000/svg\" height=\"24px\"viewBox=\"0 0 24 24\"\n",
              "       width=\"24px\">\n",
              "    <path d=\"M0 0h24v24H0V0z\" fill=\"none\"/>\n",
              "    <path d=\"M18.56 5.44l.94 2.06.94-2.06 2.06-.94-2.06-.94-.94-2.06-.94 2.06-2.06.94zm-11 1L8.5 8.5l.94-2.06 2.06-.94-2.06-.94L8.5 2.5l-.94 2.06-2.06.94zm10 10l.94 2.06.94-2.06 2.06-.94-2.06-.94-.94-2.06-.94 2.06-2.06.94z\"/><path d=\"M17.41 7.96l-1.37-1.37c-.4-.4-.92-.59-1.43-.59-.52 0-1.04.2-1.43.59L10.3 9.45l-7.72 7.72c-.78.78-.78 2.05 0 2.83L4 21.41c.39.39.9.59 1.41.59.51 0 1.02-.2 1.41-.59l7.78-7.78 2.81-2.81c.8-.78.8-2.07 0-2.86zM5.41 20L4 18.59l7.72-7.72 1.47 1.35L5.41 20z\"/>\n",
              "  </svg>\n",
              "      </button>\n",
              "      \n",
              "  <style>\n",
              "    .colab-df-container {\n",
              "      display:flex;\n",
              "      flex-wrap:wrap;\n",
              "      gap: 12px;\n",
              "    }\n",
              "\n",
              "    .colab-df-convert {\n",
              "      background-color: #E8F0FE;\n",
              "      border: none;\n",
              "      border-radius: 50%;\n",
              "      cursor: pointer;\n",
              "      display: none;\n",
              "      fill: #1967D2;\n",
              "      height: 32px;\n",
              "      padding: 0 0 0 0;\n",
              "      width: 32px;\n",
              "    }\n",
              "\n",
              "    .colab-df-convert:hover {\n",
              "      background-color: #E2EBFA;\n",
              "      box-shadow: 0px 1px 2px rgba(60, 64, 67, 0.3), 0px 1px 3px 1px rgba(60, 64, 67, 0.15);\n",
              "      fill: #174EA6;\n",
              "    }\n",
              "\n",
              "    [theme=dark] .colab-df-convert {\n",
              "      background-color: #3B4455;\n",
              "      fill: #D2E3FC;\n",
              "    }\n",
              "\n",
              "    [theme=dark] .colab-df-convert:hover {\n",
              "      background-color: #434B5C;\n",
              "      box-shadow: 0px 1px 3px 1px rgba(0, 0, 0, 0.15);\n",
              "      filter: drop-shadow(0px 1px 2px rgba(0, 0, 0, 0.3));\n",
              "      fill: #FFFFFF;\n",
              "    }\n",
              "  </style>\n",
              "\n",
              "      <script>\n",
              "        const buttonEl =\n",
              "          document.querySelector('#df-380adcb7-bd39-4698-9203-8ea755e375e6 button.colab-df-convert');\n",
              "        buttonEl.style.display =\n",
              "          google.colab.kernel.accessAllowed ? 'block' : 'none';\n",
              "\n",
              "        async function convertToInteractive(key) {\n",
              "          const element = document.querySelector('#df-380adcb7-bd39-4698-9203-8ea755e375e6');\n",
              "          const dataTable =\n",
              "            await google.colab.kernel.invokeFunction('convertToInteractive',\n",
              "                                                     [key], {});\n",
              "          if (!dataTable) return;\n",
              "\n",
              "          const docLinkHtml = 'Like what you see? Visit the ' +\n",
              "            '<a target=\"_blank\" href=https://colab.research.google.com/notebooks/data_table.ipynb>data table notebook</a>'\n",
              "            + ' to learn more about interactive tables.';\n",
              "          element.innerHTML = '';\n",
              "          dataTable['output_type'] = 'display_data';\n",
              "          await google.colab.output.renderOutput(dataTable, element);\n",
              "          const docLink = document.createElement('div');\n",
              "          docLink.innerHTML = docLinkHtml;\n",
              "          element.appendChild(docLink);\n",
              "        }\n",
              "      </script>\n",
              "    </div>\n",
              "  </div>\n",
              "  "
            ]
          },
          "metadata": {},
          "execution_count": 166
        }
      ]
    },
    {
      "cell_type": "markdown",
      "metadata": {
        "id": "qHijKdLZ5LcP"
      },
      "source": [
        "# Cosine Similarity\n"
      ]
    },
    {
      "cell_type": "code",
      "source": [
        "from scipy import spatial\n",
        "\n",
        "S1 = [1,1,0,0,0,0,0,0,2]\n",
        "\n",
        "S3 = [1,0,0,1,1,1,0,0,1]\n",
        "\n",
        "print(1 - spatial.distance.cosine(S1, S3))"
      ],
      "metadata": {
        "colab": {
          "base_uri": "https://localhost:8080/"
        },
        "id": "dYUr2uWQFg1o",
        "outputId": "e2d8aab2-a644-474f-93dd-fca8cdee5ae0"
      },
      "execution_count": 167,
      "outputs": [
        {
          "output_type": "stream",
          "name": "stdout",
          "text": [
            "0.5477225575051661\n"
          ]
        }
      ]
    }
  ],
  "metadata": {
    "kernelspec": {
      "display_name": "Python 3",
      "language": "python",
      "name": "python3"
    },
    "language_info": {
      "codemirror_mode": {
        "name": "ipython",
        "version": 3
      },
      "file_extension": ".py",
      "mimetype": "text/x-python",
      "name": "python",
      "nbconvert_exporter": "python",
      "pygments_lexer": "ipython3",
      "version": "3.6.8"
    },
    "colab": {
      "provenance": []
    }
  },
  "nbformat": 4,
  "nbformat_minor": 0
}